{
 "cells": [
  {
   "cell_type": "code",
   "execution_count": 31,
   "metadata": {},
   "outputs": [],
   "source": [
    "import pandas as pd\n",
    "import numpy as np\n",
    "from numpy import random\n",
    "import math\n",
    "import scipy.stats as st\n",
    "from scipy.stats import ttest_1samp\n",
    "from scipy.stats import norm"
   ]
  },
  {
   "cell_type": "markdown",
   "metadata": {},
   "source": [
    "### Question 1 (1 point)\n",
    "A sample of the various prices for a particular product has been conducted in 16 stores which were selected at random in a neighborhood of a city. The following prices were noted:\n",
    "\n",
    "97, 105, 95, 115, 101, 108, 95, 100, 99, 98, 104, 110, 107, 111, 103, 110.\n",
    "\n",
    "Assuming that the prices of this product follow a normal law of variance of 25 and an unknown mean:\n",
    "\n",
    "1.What is the distribution of the sample mean?\n",
    "\n",
    "2.Determine the confidence interval at 95% for the population mean.\n"
   ]
  },
  {
   "cell_type": "markdown",
   "metadata": {},
   "source": [
    "### Solution 1"
   ]
  },
  {
   "cell_type": "code",
   "execution_count": 2,
   "metadata": {},
   "outputs": [
    {
     "name": "stdout",
     "output_type": "stream",
     "text": [
      "[97, 105, 95, 115, 101, 108, 95, 100, 99, 98, 104, 110, 107, 111, 103, 110]\n"
     ]
    }
   ],
   "source": [
    "list1 = [97, 105, 95, 115, 101, 108, 95, 100, 99, 98, 104, 110, 107, 111, 103, 110]\n",
    "print(list1)"
   ]
  },
  {
   "cell_type": "code",
   "execution_count": 3,
   "metadata": {},
   "outputs": [
    {
     "data": {
      "text/plain": [
       "[95, 95, 97, 98, 99, 100, 101, 103, 104, 105, 107, 108, 110, 110, 111, 115]"
      ]
     },
     "execution_count": 3,
     "metadata": {},
     "output_type": "execute_result"
    }
   ],
   "source": [
    "list1.sort()\n",
    "list1"
   ]
  },
  {
   "cell_type": "code",
   "execution_count": 4,
   "metadata": {},
   "outputs": [
    {
     "data": {
      "text/plain": [
       "103.625"
      ]
     },
     "execution_count": 4,
     "metadata": {},
     "output_type": "execute_result"
    }
   ],
   "source": [
    "# finding the mean \n",
    "mean = np.mean(list1)\n",
    "mean"
   ]
  },
  {
   "cell_type": "code",
   "execution_count": 5,
   "metadata": {},
   "outputs": [
    {
     "data": {
      "text/plain": [
       "0.975"
      ]
     },
     "execution_count": 5,
     "metadata": {},
     "output_type": "execute_result"
    }
   ],
   "source": [
    "# from z score table we see that our z is equal to 1.96 \n",
    "CL = 95/100\n",
    "CL\n",
    "Area = (CL+1)/2\n",
    "Area"
   ]
  },
  {
   "cell_type": "code",
   "execution_count": 6,
   "metadata": {},
   "outputs": [
    {
     "data": {
      "text/plain": [
       "2.45"
      ]
     },
     "execution_count": 6,
     "metadata": {},
     "output_type": "execute_result"
    }
   ],
   "source": [
    "z = 1.96\n",
    "n = len(list1)\n",
    "std = math.sqrt(25)\n",
    "EBM = z*(std/math.sqrt(n))\n",
    "EBM"
   ]
  },
  {
   "cell_type": "code",
   "execution_count": 7,
   "metadata": {},
   "outputs": [
    {
     "data": {
      "text/plain": [
       "101.175"
      ]
     },
     "execution_count": 7,
     "metadata": {},
     "output_type": "execute_result"
    }
   ],
   "source": [
    "# low \n",
    "LPD = mean - EBM\n",
    "LPD"
   ]
  },
  {
   "cell_type": "code",
   "execution_count": 8,
   "metadata": {},
   "outputs": [
    {
     "data": {
      "text/plain": [
       "106.075"
      ]
     },
     "execution_count": 8,
     "metadata": {},
     "output_type": "execute_result"
    }
   ],
   "source": [
    "UPD = mean + EBM\n",
    "UPD"
   ]
  },
  {
   "cell_type": "code",
   "execution_count": 9,
   "metadata": {},
   "outputs": [
    {
     "data": {
      "text/plain": [
       "(100.35827396827868, 106.89172603172132)"
      ]
     },
     "execution_count": 9,
     "metadata": {},
     "output_type": "execute_result"
    }
   ],
   "source": [
    "# Determine the confidence interval at 95% for the population mean.\n",
    "st.t.interval(alpha=0.95, df=len(list1)-1, loc=np.mean(list1), scale=st.sem(list1))"
   ]
  },
  {
   "cell_type": "markdown",
   "metadata": {},
   "source": [
    "### Question 2 (1 point)\n",
    "The average heights of a random sample of 300 people from a city is 1.77 m. It is known that the heights of the population are random variables that follow a normal distribution with a variance of 0.25.\n",
    "\n",
    "1.Determine the interval of 95% confidence for the average heights of the population.\n",
    "\n",
    "2.With a confidence level of 90%, what would the minimum sample size need to be in order for the true mean of the heights to be less than 2 cm from the sample mean?\n"
   ]
  },
  {
   "cell_type": "markdown",
   "metadata": {},
   "source": [
    "### Solution 2"
   ]
  },
  {
   "cell_type": "code",
   "execution_count": 10,
   "metadata": {},
   "outputs": [
    {
     "name": "stdout",
     "output_type": "stream",
     "text": [
      "[1.5325198  0.88862229 1.83643981 1.63840995 1.54700428 1.40003995\n",
      " 1.15559107 1.33179191 2.54049574 1.10675126 1.65769541 1.87700628\n",
      " 1.51146988 1.16680903 1.41302882 2.42504199 0.86720343 1.53149984\n",
      " 1.34869559 1.8503761  1.57903752 2.58903256 2.75140235 1.96533013\n",
      " 1.63576529 2.18675741 1.66391824 2.07072539 1.56581076 1.39371151\n",
      " 2.04138754 1.84062974 1.02576715 1.3945771  1.75984435 1.81009166\n",
      " 2.21298931 1.74805801 1.78380798 2.63654097 1.72690734 1.39319243\n",
      " 2.17232945 1.43752937 1.42846888 1.42678676 0.89207681 1.86641023\n",
      " 1.41178747 1.98938181 3.07218285 2.01230953 1.25222078 1.53043916\n",
      " 1.63923051 2.70283986 1.96606496 1.22221966 1.5637163  1.09025966\n",
      " 1.78206956 1.33925616 2.02124447 1.40115441 2.31453945 1.70264222\n",
      " 1.3647223  1.97000835 1.54154012 2.23902611 2.41367735 1.0888507\n",
      " 1.18209192 1.52691439 1.77499608 1.90159128 1.9158815  2.10912074\n",
      " 1.45134348 2.22700661 1.86623209 0.99449113 1.71943459 1.98130261\n",
      " 1.74232712 1.83703236 2.23108578 1.2879563  1.31662718 1.83624577\n",
      " 1.53576359 1.01981668 1.38979566 1.57121025 1.73741883 1.68329101\n",
      " 2.02547701 1.60717198 1.02874278 3.04049768 2.15427443 1.27347811\n",
      " 1.39459775 1.50158881 2.86946695 2.08040709 1.34209471 2.4463007\n",
      " 2.17825603 1.91123457 1.26312179 1.35585747 2.0715797  2.30908955\n",
      " 2.58913927 2.15851362 1.4646128  1.57838681 0.64292625 1.22254894\n",
      " 2.1272388  1.79316341 2.92542641 1.64403547 1.20748953 2.50707005\n",
      " 1.34374743 1.04184717 0.91950145 1.35339544 2.48660849 2.15111665\n",
      " 2.47140775 2.04879328 2.73735474 1.27475406 1.80198381 1.72134056\n",
      " 1.95521559 1.06187456 2.67937435 1.96106961 2.56436809 1.69678875\n",
      " 1.68435204 1.4486329  1.89399593 1.8459057  2.29627338 2.15042344\n",
      " 1.20295441 1.03640021 1.85358541 1.68271478 1.59501171 1.49373206\n",
      " 2.21458197 1.91957009 2.20248374 0.71875775 1.72850291 1.7389217\n",
      " 2.57109617 1.36927318 1.46581336 2.02399863 1.57713012 1.20938372\n",
      " 2.61273203 2.54007854 1.63813829 1.49479538 1.07161392 0.81895495\n",
      " 2.76975441 2.28957971 1.64171832 1.79213012 1.18570245 1.17389993\n",
      " 0.90575035 0.88990968 1.28798573 1.16564147 2.24577494 2.2853468\n",
      " 2.57343671 1.44325775 1.06276954 2.48648886 1.60505932 1.02749089\n",
      " 1.16929235 1.88053504 1.96223219 1.45942576 1.82210553 1.68875728\n",
      " 1.57013854 1.50641298 1.88432208 2.18399533 2.0484204  2.11606446\n",
      " 2.34246733 1.98200563 2.28406109 1.71293146 1.76968278 2.10261454\n",
      " 1.74251464 1.48519423 2.54588161 1.07335994 1.9793027  1.47329877\n",
      " 2.32280103 0.77762295 2.14816453 2.33194479 1.96533044 2.00321711\n",
      " 1.64775463 1.52895667 2.3380135  1.23737653 2.20136246 1.84497199\n",
      " 1.28630505 2.03750118 2.62439824 1.83329641 1.72373643 1.76412025\n",
      " 1.96818427 2.24430245 1.87327749 2.17573838 1.97875679 2.39675425\n",
      " 0.90419703 2.30014651 1.51918097 3.02170021 1.52666693 1.7170692\n",
      " 1.45675742 2.51710766 2.13898321 0.65141137 1.30096099 2.37911004\n",
      " 1.88785673 1.48830155 0.78514857 1.81524273 1.21389143 1.75341766\n",
      " 2.30330494 1.5203528  1.71619074 1.34763146 1.91120678 2.2643366\n",
      " 2.39530232 3.18069029 1.84154623 1.78349723 1.14206465 2.7202952\n",
      " 1.61637691 1.8506001  1.46051925 2.77106504 0.842852   1.70188946\n",
      " 2.28378376 1.25860563 0.83912815 1.60722401 2.01832931 2.15718264\n",
      " 2.0613236  2.62850432 2.21902138 1.50155819 2.14983272 1.54975836\n",
      " 0.94363321 1.75869723 1.74968586 1.15778716 2.6135321  1.29749948\n",
      " 2.02809656 1.04661262 2.31624343 1.69104655 1.30992606 1.89325928]\n"
     ]
    }
   ],
   "source": [
    "z = random.normal(loc=1.77, scale=math.sqrt(0.25), size=300)\n",
    "print(z)"
   ]
  },
  {
   "cell_type": "code",
   "execution_count": 11,
   "metadata": {},
   "outputs": [
    {
     "data": {
      "text/plain": [
       "(1.708674487519274, 1.8238430014048688)"
      ]
     },
     "execution_count": 11,
     "metadata": {},
     "output_type": "execute_result"
    }
   ],
   "source": [
    "# determine the interval of 95% confidence for the average heights of the population.\n",
    "st.t.interval(alpha=0.95, df=len(z)-1, loc=np.mean(z), scale=st.sem(z))"
   ]
  },
  {
   "cell_type": "code",
   "execution_count": 79,
   "metadata": {},
   "outputs": [
    {
     "name": "stdout",
     "output_type": "stream",
     "text": [
      "1691.0\n"
     ]
    }
   ],
   "source": [
    "# With a confidence level of 90%, what would the minimum sample size need \n",
    "# to be in order for the true mean of the heights to be less than 2 cm from the sample mean?\n",
    "variance=0.25\n",
    "z1 = 1.645\n",
    "length=0.02\n",
    "minsampsize = ((z1**2)*variance)/((length**2))\n",
    "print(round(minsampsize, 0))"
   ]
  },
  {
   "cell_type": "code",
   "execution_count": 13,
   "metadata": {},
   "outputs": [
    {
     "data": {
      "text/plain": [
       "1.7662587444620714"
      ]
     },
     "execution_count": 13,
     "metadata": {},
     "output_type": "execute_result"
    }
   ],
   "source": [
    "np.mean(z)"
   ]
  },
  {
   "cell_type": "markdown",
   "metadata": {},
   "source": [
    "### Question 3 (1 point)\n",
    "A principal at a certain school claims that the students in his school are above average intelligence. A random sample of thirty students IQ scores have a mean score of 112. Is there sufficient evidence to support the principal’s claim? The mean population IQ is 100 with a standard deviation of 15. (Use both traditional and p-value methods)."
   ]
  },
  {
   "cell_type": "markdown",
   "metadata": {},
   "source": [
    "### Solution 3"
   ]
  },
  {
   "cell_type": "markdown",
   "metadata": {},
   "source": [
    "**Null hypothesis:** mean=100\n",
    "\n",
    "**Alternative hypothesis:** mean>100\n",
    "\n",
    "**Critical z-value:** 1.645"
   ]
  },
  {
   "cell_type": "code",
   "execution_count": 27,
   "metadata": {},
   "outputs": [
    {
     "data": {
      "text/plain": [
       "4.381780460041329"
      ]
     },
     "execution_count": 27,
     "metadata": {},
     "output_type": "execute_result"
    }
   ],
   "source": [
    "# calculating z-value\n",
    "sample_mean = 112\n",
    "population_mean = 100\n",
    "n=30\n",
    "std = 15\n",
    "calcz = (sample_mean-population_mean)/(std/math.sqrt(n))\n",
    "calcz"
   ]
  },
  {
   "cell_type": "code",
   "execution_count": 28,
   "metadata": {},
   "outputs": [
    {
     "name": "stdout",
     "output_type": "stream",
     "text": [
      "We are rejecting null hypothesis\n"
     ]
    }
   ],
   "source": [
    "# since this is a one-tailed test the critical z-value for the 0.95 will be 1.645 \n",
    "critz = 1.645\n",
    "if calcz>critz:\n",
    "    print(\"We are rejecting null hypothesis\")\n",
    "else:\n",
    "    print(\"We are accepting null hypothesis\")"
   ]
  },
  {
   "cell_type": "code",
   "execution_count": 81,
   "metadata": {},
   "outputs": [
    {
     "name": "stdout",
     "output_type": "stream",
     "text": [
      "P-value is 1e-05\n",
      "We are rejecting null hypothesis\n"
     ]
    }
   ],
   "source": [
    "pvalue = round(norm.sf(calcz, loc=0, scale=1), 5)\n",
    "print(\"P-value is \" + str(pvalue))\n",
    "if pvalue<0.05:\n",
    "    print(\"We are rejecting null hypothesis\")\n",
    "else:\n",
    "    print(\"We are accepting null hypothesis\")"
   ]
  },
  {
   "cell_type": "markdown",
   "metadata": {},
   "source": [
    "### Question 4 (1 point)\n",
    "The CEO of a large electric utility claims that 80 percent of his 1,000,000 customers are very satisfied with the service they receive. To test this claim, the local newspaper surveyed 100 customers, using simple random sampling. Among the sampled customers, 73 percent say they are very satisified. Based on these findings, can we reject the CEO's hypothesis that 80% of the customers are very satisfied? Use a 0.05 level of significance.\n"
   ]
  },
  {
   "cell_type": "markdown",
   "metadata": {},
   "source": [
    "### Solution 4"
   ]
  },
  {
   "cell_type": "markdown",
   "metadata": {},
   "source": [
    "**Null hypothesis:** p=0.8\n",
    "\n",
    "**Alternative hypothesis:** p!=0.8"
   ]
  },
  {
   "cell_type": "code",
   "execution_count": 42,
   "metadata": {},
   "outputs": [
    {
     "data": {
      "text/plain": [
       "0.04"
      ]
     },
     "execution_count": 42,
     "metadata": {},
     "output_type": "execute_result"
    }
   ],
   "source": [
    "p=0.8\n",
    "p2=0.73\n",
    "n=100\n",
    "std=math.sqrt(p*(1-p)/n)\n",
    "std"
   ]
  },
  {
   "cell_type": "code",
   "execution_count": 45,
   "metadata": {},
   "outputs": [
    {
     "data": {
      "text/plain": [
       "-1.7500000000000016"
      ]
     },
     "execution_count": 45,
     "metadata": {},
     "output_type": "execute_result"
    }
   ],
   "source": [
    "zval=(p2-p)/std\n",
    "zval"
   ]
  },
  {
   "cell_type": "code",
   "execution_count": 60,
   "metadata": {},
   "outputs": [
    {
     "name": "stdout",
     "output_type": "stream",
     "text": [
      "We are accepting null hypothesis\n"
     ]
    }
   ],
   "source": [
    "# our critical z-value for the two-tailed test is 1.96\n",
    "critz1=1.96\n",
    "negativez = critz1*(-1)\n",
    "if negativez<zval<critz1:\n",
    "    print(\"We are accepting null hypothesis\")\n",
    "else:\n",
    "    print(\"We are rejecting null hypothesis\")"
   ]
  },
  {
   "cell_type": "code",
   "execution_count": null,
   "metadata": {},
   "outputs": [],
   "source": []
  }
 ],
 "metadata": {
  "kernelspec": {
   "display_name": "Python 3",
   "language": "python",
   "name": "python3"
  },
  "language_info": {
   "codemirror_mode": {
    "name": "ipython",
    "version": 3
   },
   "file_extension": ".py",
   "mimetype": "text/x-python",
   "name": "python",
   "nbconvert_exporter": "python",
   "pygments_lexer": "ipython3",
   "version": "3.8.3"
  }
 },
 "nbformat": 4,
 "nbformat_minor": 4
}
